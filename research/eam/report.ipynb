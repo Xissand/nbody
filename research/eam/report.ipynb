{
 "cells": [
  {
   "cell_type": "code",
   "execution_count": 1,
   "metadata": {},
   "outputs": [],
   "source": [
    "import numpy as np\n",
    "import pandas as pd\n",
    "import matplotlib.pyplot as plt\n",
    "from lmfit import Model\n",
    "import plotly.express as px\n",
    "import scipy.stats as stats\n",
    "from tqdm.notebook import tqdm\n",
    "from IPython.display import Image, Video"
   ]
  },
  {
   "cell_type": "code",
   "execution_count": 2,
   "metadata": {},
   "outputs": [],
   "source": [
    "step = 1e-5;"
   ]
  },
  {
   "cell_type": "code",
   "execution_count": 7,
   "metadata": {},
   "outputs": [
    {
     "data": {
      "text/html": [
       "<div>\n",
       "<style scoped>\n",
       "    .dataframe tbody tr th:only-of-type {\n",
       "        vertical-align: middle;\n",
       "    }\n",
       "\n",
       "    .dataframe tbody tr th {\n",
       "        vertical-align: top;\n",
       "    }\n",
       "\n",
       "    .dataframe thead th {\n",
       "        text-align: right;\n",
       "    }\n",
       "</style>\n",
       "<table border=\"1\" class=\"dataframe\">\n",
       "  <thead>\n",
       "    <tr style=\"text-align: right;\">\n",
       "      <th></th>\n",
       "      <th>t</th>\n",
       "      <th>Potential</th>\n",
       "      <th>Kinetic</th>\n",
       "      <th>Total</th>\n",
       "      <th>Virial</th>\n",
       "    </tr>\n",
       "  </thead>\n",
       "  <tbody>\n",
       "    <tr>\n",
       "      <th>0</th>\n",
       "      <td>1000</td>\n",
       "      <td>-2021.63</td>\n",
       "      <td>108.4090</td>\n",
       "      <td>-1913.22</td>\n",
       "      <td>-6532.61</td>\n",
       "    </tr>\n",
       "    <tr>\n",
       "      <th>1</th>\n",
       "      <td>2000</td>\n",
       "      <td>-2015.72</td>\n",
       "      <td>102.2320</td>\n",
       "      <td>-1913.48</td>\n",
       "      <td>-6278.15</td>\n",
       "    </tr>\n",
       "    <tr>\n",
       "      <th>2</th>\n",
       "      <td>3000</td>\n",
       "      <td>-2005.93</td>\n",
       "      <td>92.3015</td>\n",
       "      <td>-1913.63</td>\n",
       "      <td>-5876.35</td>\n",
       "    </tr>\n",
       "    <tr>\n",
       "      <th>3</th>\n",
       "      <td>4000</td>\n",
       "      <td>-1993.08</td>\n",
       "      <td>79.4593</td>\n",
       "      <td>-1913.62</td>\n",
       "      <td>-5364.60</td>\n",
       "    </tr>\n",
       "    <tr>\n",
       "      <th>4</th>\n",
       "      <td>5000</td>\n",
       "      <td>-1978.64</td>\n",
       "      <td>65.0123</td>\n",
       "      <td>-1913.62</td>\n",
       "      <td>-4797.32</td>\n",
       "    </tr>\n",
       "    <tr>\n",
       "      <th>...</th>\n",
       "      <td>...</td>\n",
       "      <td>...</td>\n",
       "      <td>...</td>\n",
       "      <td>...</td>\n",
       "      <td>...</td>\n",
       "    </tr>\n",
       "    <tr>\n",
       "      <th>2994</th>\n",
       "      <td>2995000</td>\n",
       "      <td>-1965.87</td>\n",
       "      <td>52.2329</td>\n",
       "      <td>-1913.64</td>\n",
       "      <td>-4327.00</td>\n",
       "    </tr>\n",
       "    <tr>\n",
       "      <th>2995</th>\n",
       "      <td>2996000</td>\n",
       "      <td>-1966.54</td>\n",
       "      <td>52.8971</td>\n",
       "      <td>-1913.64</td>\n",
       "      <td>-4350.27</td>\n",
       "    </tr>\n",
       "    <tr>\n",
       "      <th>2996</th>\n",
       "      <td>2997000</td>\n",
       "      <td>-1967.56</td>\n",
       "      <td>53.9262</td>\n",
       "      <td>-1913.63</td>\n",
       "      <td>-4388.17</td>\n",
       "    </tr>\n",
       "    <tr>\n",
       "      <th>2997</th>\n",
       "      <td>2998000</td>\n",
       "      <td>-1968.81</td>\n",
       "      <td>55.1727</td>\n",
       "      <td>-1913.64</td>\n",
       "      <td>-4436.15</td>\n",
       "    </tr>\n",
       "    <tr>\n",
       "      <th>2998</th>\n",
       "      <td>2999000</td>\n",
       "      <td>-1970.10</td>\n",
       "      <td>56.4653</td>\n",
       "      <td>-1913.64</td>\n",
       "      <td>-4487.07</td>\n",
       "    </tr>\n",
       "  </tbody>\n",
       "</table>\n",
       "<p>2999 rows × 5 columns</p>\n",
       "</div>"
      ],
      "text/plain": [
       "            t  Potential   Kinetic    Total   Virial\n",
       "0        1000   -2021.63  108.4090 -1913.22 -6532.61\n",
       "1        2000   -2015.72  102.2320 -1913.48 -6278.15\n",
       "2        3000   -2005.93   92.3015 -1913.63 -5876.35\n",
       "3        4000   -1993.08   79.4593 -1913.62 -5364.60\n",
       "4        5000   -1978.64   65.0123 -1913.62 -4797.32\n",
       "...       ...        ...       ...      ...      ...\n",
       "2994  2995000   -1965.87   52.2329 -1913.64 -4327.00\n",
       "2995  2996000   -1966.54   52.8971 -1913.64 -4350.27\n",
       "2996  2997000   -1967.56   53.9262 -1913.63 -4388.17\n",
       "2997  2998000   -1968.81   55.1727 -1913.64 -4436.15\n",
       "2998  2999000   -1970.10   56.4653 -1913.64 -4487.07\n",
       "\n",
       "[2999 rows x 5 columns]"
      ]
     },
     "execution_count": 7,
     "metadata": {},
     "output_type": "execute_result"
    }
   ],
   "source": [
    "energy = pd.read_csv(\"energy.csv\")\n",
    "energy"
   ]
  },
  {
   "cell_type": "code",
   "execution_count": 14,
   "metadata": {
    "scrolled": false
   },
   "outputs": [
    {
     "data": {
      "image/png": "[encoded data removed]",
      "text/plain": [
       "<Figure size 1152x648 with 1 Axes>"
      ]
     },
     "metadata": {
      "needs_background": "light"
     },
     "output_type": "display_data"
    }
   ],
   "source": [
    "plt.plot(energy[\"t\"]*step, energy['Total'])\n",
    "plt.rcParams['figure.figsize'] = [16, 9]\n",
    "plt.ylim(-1914, -1913)\n",
    "plt.grid(b=True, color='Grey', alpha=0.5, linestyle=':', linewidth=2)\n",
    "plt.xlabel(r\"T$\")\n",
    "plt.ylabel(\"E\")\n",
    "plt.show()"
   ]
  },
  {
   "cell_type": "code",
   "execution_count": null,
   "metadata": {},
   "outputs": [],
   "source": []
  }
 ],
 "metadata": {
  "kernelspec": {
   "display_name": "Python 3",
   "language": "python",
   "name": "python3"
  },
  "language_info": {
   "codemirror_mode": {
    "name": "ipython",
    "version": 3
   },
   "file_extension": ".py",
   "mimetype": "text/x-python",
   "name": "python",
   "nbconvert_exporter": "python",
   "pygments_lexer": "ipython3",
   "version": "3.7.6"
  }
 },
 "nbformat": 4,
 "nbformat_minor": 4
}
