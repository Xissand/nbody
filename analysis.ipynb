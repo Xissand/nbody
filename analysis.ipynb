{
 "cells": [
  {
   "cell_type": "code",
   "execution_count": 2,
   "metadata": {},
   "outputs": [],
   "source": [
    "import numpy as np\n",
    "import pandas as pd\n",
    "import matplotlib.pyplot as plt\n",
    "%matplotlib inline"
   ]
  },
  {
   "cell_type": "code",
   "execution_count": 10,
   "metadata": {},
   "outputs": [
    {
     "data": {
      "text/html": [
       "<div>\n",
       "<style scoped>\n",
       "    .dataframe tbody tr th:only-of-type {\n",
       "        vertical-align: middle;\n",
       "    }\n",
       "\n",
       "    .dataframe tbody tr th {\n",
       "        vertical-align: top;\n",
       "    }\n",
       "\n",
       "    .dataframe thead th {\n",
       "        text-align: right;\n",
       "    }\n",
       "</style>\n",
       "<table border=\"1\" class=\"dataframe\">\n",
       "  <thead>\n",
       "    <tr style=\"text-align: right;\">\n",
       "      <th></th>\n",
       "      <th>Particles</th>\n",
       "      <th>Step</th>\n",
       "      <th>Potential</th>\n",
       "      <th>Kitetic</th>\n",
       "      <th>Total</th>\n",
       "    </tr>\n",
       "  </thead>\n",
       "  <tbody>\n",
       "    <tr>\n",
       "      <td>0</td>\n",
       "      <td>512</td>\n",
       "      <td>0</td>\n",
       "      <td>0.000</td>\n",
       "      <td>0.000</td>\n",
       "      <td>0.00</td>\n",
       "    </tr>\n",
       "    <tr>\n",
       "      <td>1</td>\n",
       "      <td>512</td>\n",
       "      <td>4</td>\n",
       "      <td>2904.690</td>\n",
       "      <td>136.791</td>\n",
       "      <td>3041.48</td>\n",
       "    </tr>\n",
       "    <tr>\n",
       "      <td>2</td>\n",
       "      <td>512</td>\n",
       "      <td>9</td>\n",
       "      <td>2574.580</td>\n",
       "      <td>457.981</td>\n",
       "      <td>3032.56</td>\n",
       "    </tr>\n",
       "    <tr>\n",
       "      <td>3</td>\n",
       "      <td>512</td>\n",
       "      <td>14</td>\n",
       "      <td>2199.050</td>\n",
       "      <td>821.161</td>\n",
       "      <td>3020.21</td>\n",
       "    </tr>\n",
       "    <tr>\n",
       "      <td>4</td>\n",
       "      <td>512</td>\n",
       "      <td>19</td>\n",
       "      <td>1861.320</td>\n",
       "      <td>1147.340</td>\n",
       "      <td>3008.66</td>\n",
       "    </tr>\n",
       "    <tr>\n",
       "      <td>...</td>\n",
       "      <td>...</td>\n",
       "      <td>...</td>\n",
       "      <td>...</td>\n",
       "      <td>...</td>\n",
       "      <td>...</td>\n",
       "    </tr>\n",
       "    <tr>\n",
       "      <td>188</td>\n",
       "      <td>512</td>\n",
       "      <td>939</td>\n",
       "      <td>484.903</td>\n",
       "      <td>3482.000</td>\n",
       "      <td>3966.90</td>\n",
       "    </tr>\n",
       "    <tr>\n",
       "      <td>189</td>\n",
       "      <td>512</td>\n",
       "      <td>944</td>\n",
       "      <td>483.050</td>\n",
       "      <td>3483.040</td>\n",
       "      <td>3966.09</td>\n",
       "    </tr>\n",
       "    <tr>\n",
       "      <td>190</td>\n",
       "      <td>512</td>\n",
       "      <td>949</td>\n",
       "      <td>481.614</td>\n",
       "      <td>3484.150</td>\n",
       "      <td>3965.76</td>\n",
       "    </tr>\n",
       "    <tr>\n",
       "      <td>191</td>\n",
       "      <td>512</td>\n",
       "      <td>954</td>\n",
       "      <td>479.940</td>\n",
       "      <td>3486.050</td>\n",
       "      <td>3965.99</td>\n",
       "    </tr>\n",
       "    <tr>\n",
       "      <td>192</td>\n",
       "      <td>512</td>\n",
       "      <td>959</td>\n",
       "      <td>481.511</td>\n",
       "      <td>3484.310</td>\n",
       "      <td>3965.82</td>\n",
       "    </tr>\n",
       "  </tbody>\n",
       "</table>\n",
       "<p>193 rows × 5 columns</p>\n",
       "</div>"
      ],
      "text/plain": [
       "     Particles  Step  Potential   Kitetic    Total\n",
       "0          512     0      0.000     0.000     0.00\n",
       "1          512     4   2904.690   136.791  3041.48\n",
       "2          512     9   2574.580   457.981  3032.56\n",
       "3          512    14   2199.050   821.161  3020.21\n",
       "4          512    19   1861.320  1147.340  3008.66\n",
       "..         ...   ...        ...       ...      ...\n",
       "188        512   939    484.903  3482.000  3966.90\n",
       "189        512   944    483.050  3483.040  3966.09\n",
       "190        512   949    481.614  3484.150  3965.76\n",
       "191        512   954    479.940  3486.050  3965.99\n",
       "192        512   959    481.511  3484.310  3965.82\n",
       "\n",
       "[193 rows x 5 columns]"
      ]
     },
     "execution_count": 10,
     "metadata": {},
     "output_type": "execute_result"
    }
   ],
   "source": [
    "data = pd.read_csv(\"diag.csv\")\n",
    "data"
   ]
  },
  {
   "cell_type": "code",
   "execution_count": 11,
   "metadata": {},
   "outputs": [
    {
     "data": {
      "text/plain": [
       "<matplotlib.axes._subplots.AxesSubplot at 0x7f347b310978>"
      ]
     },
     "execution_count": 11,
     "metadata": {},
     "output_type": "execute_result"
    },
    {
     "data": {
      "image/png": "[encoded data removed]",
      "text/plain": [
       "<Figure size 432x288 with 1 Axes>"
      ]
     },
     "metadata": {
      "needs_background": "light"
     },
     "output_type": "display_data"
    }
   ],
   "source": [
    "ax = data.plot(x='Step', y='Kitetic')\n",
    "data.plot(x='Step', y='Potential', ax=ax)\n",
    "data.plot(x='Step', y='Total',ax=ax)"
   ]
  },
  {
   "cell_type": "code",
   "execution_count": null,
   "metadata": {},
   "outputs": [],
   "source": []
  }
 ],
 "metadata": {
  "kernelspec": {
   "display_name": "Python 3",
   "language": "python",
   "name": "python3"
  },
  "language_info": {
   "codemirror_mode": {
    "name": "ipython",
    "version": 3
   },
   "file_extension": ".py",
   "mimetype": "text/x-python",
   "name": "python",
   "nbconvert_exporter": "python",
   "pygments_lexer": "ipython3",
   "version": "3.7.3"
  }
 },
 "nbformat": 4,
 "nbformat_minor": 2
}
