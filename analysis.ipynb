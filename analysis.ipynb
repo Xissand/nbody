{
 "cells": [
  {
   "cell_type": "code",
   "execution_count": 61,
   "metadata": {},
   "outputs": [],
   "source": [
    "import numpy as np\n",
    "import pandas as pd\n",
    "import matplotlib.pyplot as plt"
   ]
  },
  {
   "cell_type": "markdown",
   "metadata": {},
   "source": [
    "# GPU code"
   ]
  },
  {
   "cell_type": "code",
   "execution_count": 62,
   "metadata": {},
   "outputs": [
    {
     "data": {
      "text/html": [
       "<div>\n",
       "<style scoped>\n",
       "    .dataframe tbody tr th:only-of-type {\n",
       "        vertical-align: middle;\n",
       "    }\n",
       "\n",
       "    .dataframe tbody tr th {\n",
       "        vertical-align: top;\n",
       "    }\n",
       "\n",
       "    .dataframe thead th {\n",
       "        text-align: right;\n",
       "    }\n",
       "</style>\n",
       "<table border=\"1\" class=\"dataframe\">\n",
       "  <thead>\n",
       "    <tr style=\"text-align: right;\">\n",
       "      <th></th>\n",
       "      <th>t</th>\n",
       "      <th>Potential</th>\n",
       "      <th>Kinetic</th>\n",
       "      <th>Total</th>\n",
       "    </tr>\n",
       "  </thead>\n",
       "  <tbody>\n",
       "    <tr>\n",
       "      <td>0</td>\n",
       "      <td>0</td>\n",
       "      <td>52189.980469</td>\n",
       "      <td>0.000216</td>\n",
       "      <td>52189.980469</td>\n",
       "    </tr>\n",
       "    <tr>\n",
       "      <td>1</td>\n",
       "      <td>5</td>\n",
       "      <td>52189.968750</td>\n",
       "      <td>0.007735</td>\n",
       "      <td>52189.976562</td>\n",
       "    </tr>\n",
       "    <tr>\n",
       "      <td>2</td>\n",
       "      <td>10</td>\n",
       "      <td>52189.945312</td>\n",
       "      <td>0.025999</td>\n",
       "      <td>52189.984375</td>\n",
       "    </tr>\n",
       "    <tr>\n",
       "      <td>3</td>\n",
       "      <td>15</td>\n",
       "      <td>52189.917969</td>\n",
       "      <td>0.054995</td>\n",
       "      <td>52189.988281</td>\n",
       "    </tr>\n",
       "    <tr>\n",
       "      <td>4</td>\n",
       "      <td>20</td>\n",
       "      <td>52189.886719</td>\n",
       "      <td>0.094739</td>\n",
       "      <td>52189.992188</td>\n",
       "    </tr>\n",
       "    <tr>\n",
       "      <td>...</td>\n",
       "      <td>...</td>\n",
       "      <td>...</td>\n",
       "      <td>...</td>\n",
       "      <td>...</td>\n",
       "    </tr>\n",
       "    <tr>\n",
       "      <td>19995</td>\n",
       "      <td>99975</td>\n",
       "      <td>47967.296875</td>\n",
       "      <td>4222.621094</td>\n",
       "      <td>52190.007812</td>\n",
       "    </tr>\n",
       "    <tr>\n",
       "      <td>19996</td>\n",
       "      <td>99980</td>\n",
       "      <td>47967.273438</td>\n",
       "      <td>4222.691406</td>\n",
       "      <td>52189.921875</td>\n",
       "    </tr>\n",
       "    <tr>\n",
       "      <td>19997</td>\n",
       "      <td>99985</td>\n",
       "      <td>47967.167969</td>\n",
       "      <td>4222.763184</td>\n",
       "      <td>52189.843750</td>\n",
       "    </tr>\n",
       "    <tr>\n",
       "      <td>19998</td>\n",
       "      <td>99990</td>\n",
       "      <td>47967.152344</td>\n",
       "      <td>4222.853516</td>\n",
       "      <td>52189.906250</td>\n",
       "    </tr>\n",
       "    <tr>\n",
       "      <td>19999</td>\n",
       "      <td>99995</td>\n",
       "      <td>47966.980469</td>\n",
       "      <td>4222.952148</td>\n",
       "      <td>52189.957031</td>\n",
       "    </tr>\n",
       "  </tbody>\n",
       "</table>\n",
       "<p>20000 rows × 4 columns</p>\n",
       "</div>"
      ],
      "text/plain": [
       "           t     Potential      Kinetic         Total\n",
       "0          0  52189.980469     0.000216  52189.980469\n",
       "1          5  52189.968750     0.007735  52189.976562\n",
       "2         10  52189.945312     0.025999  52189.984375\n",
       "3         15  52189.917969     0.054995  52189.988281\n",
       "4         20  52189.886719     0.094739  52189.992188\n",
       "...      ...           ...          ...           ...\n",
       "19995  99975  47967.296875  4222.621094  52190.007812\n",
       "19996  99980  47967.273438  4222.691406  52189.921875\n",
       "19997  99985  47967.167969  4222.763184  52189.843750\n",
       "19998  99990  47967.152344  4222.853516  52189.906250\n",
       "19999  99995  47966.980469  4222.952148  52189.957031\n",
       "\n",
       "[20000 rows x 4 columns]"
      ]
     },
     "execution_count": 62,
     "metadata": {},
     "output_type": "execute_result"
    }
   ],
   "source": [
    "gpue=pd.read_csv(\"gpue.csv\")\n",
    "gpue"
   ]
  },
  {
   "cell_type": "code",
   "execution_count": 63,
   "metadata": {},
   "outputs": [
    {
     "data": {
      "image/png": "[encoded data removed]",
      "text/plain": [
       "<Figure size 432x288 with 1 Axes>"
      ]
     },
     "metadata": {
      "needs_background": "light"
     },
     "output_type": "display_data"
    }
   ],
   "source": [
    "ax = gpue.plot(x='t', y='Kinetic')\n",
    "gpue.plot(x='t', y='Potential', ax=ax)\n",
    "gpue.plot(x='t', y='Total',ax=ax)\n",
    "plt.show()"
   ]
  },
  {
   "cell_type": "code",
   "execution_count": 64,
   "metadata": {},
   "outputs": [
    {
     "data": {
      "text/html": [
       "<div>\n",
       "<style scoped>\n",
       "    .dataframe tbody tr th:only-of-type {\n",
       "        vertical-align: middle;\n",
       "    }\n",
       "\n",
       "    .dataframe tbody tr th {\n",
       "        vertical-align: top;\n",
       "    }\n",
       "\n",
       "    .dataframe thead th {\n",
       "        text-align: right;\n",
       "    }\n",
       "</style>\n",
       "<table border=\"1\" class=\"dataframe\">\n",
       "  <thead>\n",
       "    <tr style=\"text-align: right;\">\n",
       "      <th></th>\n",
       "      <th>vx</th>\n",
       "      <th>vy</th>\n",
       "      <th>vz</th>\n",
       "      <th>v</th>\n",
       "    </tr>\n",
       "  </thead>\n",
       "  <tbody>\n",
       "    <tr>\n",
       "      <td>0</td>\n",
       "      <td>0.323904</td>\n",
       "      <td>-0.052372</td>\n",
       "      <td>-0.358826</td>\n",
       "      <td>0.236412</td>\n",
       "    </tr>\n",
       "    <tr>\n",
       "      <td>1</td>\n",
       "      <td>-0.124615</td>\n",
       "      <td>0.596411</td>\n",
       "      <td>-0.485851</td>\n",
       "      <td>0.607286</td>\n",
       "    </tr>\n",
       "    <tr>\n",
       "      <td>2</td>\n",
       "      <td>-0.290630</td>\n",
       "      <td>1.554833</td>\n",
       "      <td>-0.829848</td>\n",
       "      <td>3.190618</td>\n",
       "    </tr>\n",
       "    <tr>\n",
       "      <td>3</td>\n",
       "      <td>0.467752</td>\n",
       "      <td>0.022068</td>\n",
       "      <td>0.599656</td>\n",
       "      <td>0.578867</td>\n",
       "    </tr>\n",
       "    <tr>\n",
       "      <td>4</td>\n",
       "      <td>-0.523406</td>\n",
       "      <td>-0.967904</td>\n",
       "      <td>-0.161750</td>\n",
       "      <td>1.236955</td>\n",
       "    </tr>\n",
       "    <tr>\n",
       "      <td>...</td>\n",
       "      <td>...</td>\n",
       "      <td>...</td>\n",
       "      <td>...</td>\n",
       "      <td>...</td>\n",
       "    </tr>\n",
       "    <tr>\n",
       "      <td>4091</td>\n",
       "      <td>-0.310375</td>\n",
       "      <td>-0.470454</td>\n",
       "      <td>-1.752590</td>\n",
       "      <td>3.389233</td>\n",
       "    </tr>\n",
       "    <tr>\n",
       "      <td>4092</td>\n",
       "      <td>-0.536269</td>\n",
       "      <td>-0.642996</td>\n",
       "      <td>-0.811132</td>\n",
       "      <td>1.358963</td>\n",
       "    </tr>\n",
       "    <tr>\n",
       "      <td>4093</td>\n",
       "      <td>-0.287541</td>\n",
       "      <td>0.994289</td>\n",
       "      <td>-0.211743</td>\n",
       "      <td>1.116125</td>\n",
       "    </tr>\n",
       "    <tr>\n",
       "      <td>4094</td>\n",
       "      <td>0.125837</td>\n",
       "      <td>0.319196</td>\n",
       "      <td>-0.924824</td>\n",
       "      <td>0.973020</td>\n",
       "    </tr>\n",
       "    <tr>\n",
       "      <td>4095</td>\n",
       "      <td>-0.700751</td>\n",
       "      <td>-0.923669</td>\n",
       "      <td>-0.355720</td>\n",
       "      <td>1.470753</td>\n",
       "    </tr>\n",
       "  </tbody>\n",
       "</table>\n",
       "<p>4096 rows × 4 columns</p>\n",
       "</div>"
      ],
      "text/plain": [
       "            vx        vy        vz         v\n",
       "0     0.323904 -0.052372 -0.358826  0.236412\n",
       "1    -0.124615  0.596411 -0.485851  0.607286\n",
       "2    -0.290630  1.554833 -0.829848  3.190618\n",
       "3     0.467752  0.022068  0.599656  0.578867\n",
       "4    -0.523406 -0.967904 -0.161750  1.236955\n",
       "...        ...       ...       ...       ...\n",
       "4091 -0.310375 -0.470454 -1.752590  3.389233\n",
       "4092 -0.536269 -0.642996 -0.811132  1.358963\n",
       "4093 -0.287541  0.994289 -0.211743  1.116125\n",
       "4094  0.125837  0.319196 -0.924824  0.973020\n",
       "4095 -0.700751 -0.923669 -0.355720  1.470753\n",
       "\n",
       "[4096 rows x 4 columns]"
      ]
     },
     "execution_count": 64,
     "metadata": {},
     "output_type": "execute_result"
    }
   ],
   "source": [
    "gpuv = pd.read_csv(\"gpuv.csv\")\n",
    "gpuv"
   ]
  },
  {
   "cell_type": "code",
   "execution_count": 65,
   "metadata": {},
   "outputs": [
    {
     "data": {
      "text/plain": [
       "array([[<matplotlib.axes._subplots.AxesSubplot object at 0x7f3c2cab9cf8>]],\n",
       "      dtype=object)"
      ]
     },
     "execution_count": 65,
     "metadata": {},
     "output_type": "execute_result"
    },
    {
     "data": {
      "image/png": "[encoded data removed]",
      "text/plain": [
       "<Figure size 432x288 with 1 Axes>"
      ]
     },
     "metadata": {
      "needs_background": "light"
     },
     "output_type": "display_data"
    },
    {
     "data": {
      "image/png": "[encoded data removed]",
      "text/plain": [
       "<Figure size 432x288 with 1 Axes>"
      ]
     },
     "metadata": {
      "needs_background": "light"
     },
     "output_type": "display_data"
    },
    {
     "data": {
      "image/png": "[encoded data removed]",
      "text/plain": [
       "<Figure size 432x288 with 1 Axes>"
      ]
     },
     "metadata": {
      "needs_background": "light"
     },
     "output_type": "display_data"
    },
    {
     "data": {
      "image/png": "[encoded data removed]",
      "text/plain": [
       "<Figure size 432x288 with 1 Axes>"
      ]
     },
     "metadata": {
      "needs_background": "light"
     },
     "output_type": "display_data"
    }
   ],
   "source": [
    "gpuv.hist(column='vx', bins=100)\n",
    "gpuv.hist(column='vy', bins=100)\n",
    "gpuv.hist(column='vz', bins=100)\n",
    "gpuv.hist(column='v', bins=100)"
   ]
  },
  {
   "cell_type": "code",
   "execution_count": null,
   "metadata": {},
   "outputs": [],
   "source": []
  }
 ],
 "metadata": {
  "kernelspec": {
   "display_name": "Python 3",
   "language": "python",
   "name": "python3"
  },
  "language_info": {
   "codemirror_mode": {
    "name": "ipython",
    "version": 3
   },
   "file_extension": ".py",
   "mimetype": "text/x-python",
   "name": "python",
   "nbconvert_exporter": "python",
   "pygments_lexer": "ipython3",
   "version": "3.7.3"
  }
 },
 "nbformat": 4,
 "nbformat_minor": 2
}
