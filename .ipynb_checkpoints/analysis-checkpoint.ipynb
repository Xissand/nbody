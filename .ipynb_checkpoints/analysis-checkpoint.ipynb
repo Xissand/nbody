{
 "cells": [
  {
   "cell_type": "code",
   "execution_count": 80,
   "metadata": {},
   "outputs": [],
   "source": [
    "import numpy as np\n",
    "import pandas as pd\n",
    "import matplotlib.pyplot as plt"
   ]
  },
  {
   "cell_type": "code",
   "execution_count": 81,
   "metadata": {},
   "outputs": [
    {
     "data": {
      "text/html": [
       "<div>\n",
       "<style scoped>\n",
       "    .dataframe tbody tr th:only-of-type {\n",
       "        vertical-align: middle;\n",
       "    }\n",
       "\n",
       "    .dataframe tbody tr th {\n",
       "        vertical-align: top;\n",
       "    }\n",
       "\n",
       "    .dataframe thead th {\n",
       "        text-align: right;\n",
       "    }\n",
       "</style>\n",
       "<table border=\"1\" class=\"dataframe\">\n",
       "  <thead>\n",
       "    <tr style=\"text-align: right;\">\n",
       "      <th></th>\n",
       "      <th>Particles</th>\n",
       "      <th>Step</th>\n",
       "      <th>Potential</th>\n",
       "      <th>Kitetic</th>\n",
       "      <th>Total</th>\n",
       "    </tr>\n",
       "  </thead>\n",
       "  <tbody>\n",
       "    <tr>\n",
       "      <td>0</td>\n",
       "      <td>512</td>\n",
       "      <td>0</td>\n",
       "      <td>0.000</td>\n",
       "      <td>0.000000</td>\n",
       "      <td>0.00</td>\n",
       "    </tr>\n",
       "    <tr>\n",
       "      <td>1</td>\n",
       "      <td>512</td>\n",
       "      <td>0</td>\n",
       "      <td>3037.740</td>\n",
       "      <td>0.058997</td>\n",
       "      <td>3037.80</td>\n",
       "    </tr>\n",
       "    <tr>\n",
       "      <td>2</td>\n",
       "      <td>512</td>\n",
       "      <td>5</td>\n",
       "      <td>3035.290</td>\n",
       "      <td>2.121950</td>\n",
       "      <td>3037.41</td>\n",
       "    </tr>\n",
       "    <tr>\n",
       "      <td>3</td>\n",
       "      <td>512</td>\n",
       "      <td>10</td>\n",
       "      <td>3030.810</td>\n",
       "      <td>7.116340</td>\n",
       "      <td>3037.93</td>\n",
       "    </tr>\n",
       "    <tr>\n",
       "      <td>4</td>\n",
       "      <td>512</td>\n",
       "      <td>15</td>\n",
       "      <td>3023.950</td>\n",
       "      <td>15.003500</td>\n",
       "      <td>3038.95</td>\n",
       "    </tr>\n",
       "    <tr>\n",
       "      <td>...</td>\n",
       "      <td>...</td>\n",
       "      <td>...</td>\n",
       "      <td>...</td>\n",
       "      <td>...</td>\n",
       "      <td>...</td>\n",
       "    </tr>\n",
       "    <tr>\n",
       "      <td>1996</td>\n",
       "      <td>512</td>\n",
       "      <td>9975</td>\n",
       "      <td>499.347</td>\n",
       "      <td>2564.600000</td>\n",
       "      <td>3063.95</td>\n",
       "    </tr>\n",
       "    <tr>\n",
       "      <td>1997</td>\n",
       "      <td>512</td>\n",
       "      <td>9980</td>\n",
       "      <td>499.485</td>\n",
       "      <td>2564.500000</td>\n",
       "      <td>3063.99</td>\n",
       "    </tr>\n",
       "    <tr>\n",
       "      <td>1998</td>\n",
       "      <td>512</td>\n",
       "      <td>9985</td>\n",
       "      <td>499.572</td>\n",
       "      <td>2564.370000</td>\n",
       "      <td>3063.94</td>\n",
       "    </tr>\n",
       "    <tr>\n",
       "      <td>1999</td>\n",
       "      <td>512</td>\n",
       "      <td>9990</td>\n",
       "      <td>499.736</td>\n",
       "      <td>2564.250000</td>\n",
       "      <td>3063.99</td>\n",
       "    </tr>\n",
       "    <tr>\n",
       "      <td>2000</td>\n",
       "      <td>512</td>\n",
       "      <td>9995</td>\n",
       "      <td>499.751</td>\n",
       "      <td>2564.220000</td>\n",
       "      <td>3063.97</td>\n",
       "    </tr>\n",
       "  </tbody>\n",
       "</table>\n",
       "<p>2001 rows × 5 columns</p>\n",
       "</div>"
      ],
      "text/plain": [
       "      Particles  Step  Potential      Kitetic    Total\n",
       "0           512     0      0.000     0.000000     0.00\n",
       "1           512     0   3037.740     0.058997  3037.80\n",
       "2           512     5   3035.290     2.121950  3037.41\n",
       "3           512    10   3030.810     7.116340  3037.93\n",
       "4           512    15   3023.950    15.003500  3038.95\n",
       "...         ...   ...        ...          ...      ...\n",
       "1996        512  9975    499.347  2564.600000  3063.95\n",
       "1997        512  9980    499.485  2564.500000  3063.99\n",
       "1998        512  9985    499.572  2564.370000  3063.94\n",
       "1999        512  9990    499.736  2564.250000  3063.99\n",
       "2000        512  9995    499.751  2564.220000  3063.97\n",
       "\n",
       "[2001 rows x 5 columns]"
      ]
     },
     "execution_count": 81,
     "metadata": {},
     "output_type": "execute_result"
    }
   ],
   "source": [
    "data = pd.read_csv(\"diag.csv\")\n",
    "data"
   ]
  },
  {
   "cell_type": "code",
   "execution_count": 82,
   "metadata": {},
   "outputs": [
    {
     "data": {
      "image/png": "[encoded data removed]",
      "text/plain": [
       "<Figure size 432x288 with 1 Axes>"
      ]
     },
     "metadata": {
      "needs_background": "light"
     },
     "output_type": "display_data"
    }
   ],
   "source": [
    "ax = data.plot(x='Step', y='Kitetic')\n",
    "data.plot(x='Step', y='Potential', ax=ax)\n",
    "data.plot(x='Step', y='Total',ax=ax)\n",
    "plt.show()"
   ]
  },
  {
   "cell_type": "code",
   "execution_count": 83,
   "metadata": {},
   "outputs": [
    {
     "data": {
      "text/html": [
       "<div>\n",
       "<style scoped>\n",
       "    .dataframe tbody tr th:only-of-type {\n",
       "        vertical-align: middle;\n",
       "    }\n",
       "\n",
       "    .dataframe tbody tr th {\n",
       "        vertical-align: top;\n",
       "    }\n",
       "\n",
       "    .dataframe thead th {\n",
       "        text-align: right;\n",
       "    }\n",
       "</style>\n",
       "<table border=\"1\" class=\"dataframe\">\n",
       "  <thead>\n",
       "    <tr style=\"text-align: right;\">\n",
       "      <th></th>\n",
       "      <th>vx</th>\n",
       "      <th>vy</th>\n",
       "      <th>vz</th>\n",
       "      <th>v</th>\n",
       "    </tr>\n",
       "  </thead>\n",
       "  <tbody>\n",
       "    <tr>\n",
       "      <td>0</td>\n",
       "      <td>-3.628490</td>\n",
       "      <td>-1.735020</td>\n",
       "      <td>-2.404300</td>\n",
       "      <td>21.95690</td>\n",
       "    </tr>\n",
       "    <tr>\n",
       "      <td>1</td>\n",
       "      <td>-2.488950</td>\n",
       "      <td>-3.029490</td>\n",
       "      <td>-2.378160</td>\n",
       "      <td>21.02840</td>\n",
       "    </tr>\n",
       "    <tr>\n",
       "      <td>2</td>\n",
       "      <td>-2.957370</td>\n",
       "      <td>-3.465330</td>\n",
       "      <td>-2.128080</td>\n",
       "      <td>25.28330</td>\n",
       "    </tr>\n",
       "    <tr>\n",
       "      <td>3</td>\n",
       "      <td>-1.348870</td>\n",
       "      <td>-3.854350</td>\n",
       "      <td>-2.068620</td>\n",
       "      <td>20.95470</td>\n",
       "    </tr>\n",
       "    <tr>\n",
       "      <td>4</td>\n",
       "      <td>-4.396060</td>\n",
       "      <td>-3.002670</td>\n",
       "      <td>-0.241108</td>\n",
       "      <td>28.39950</td>\n",
       "    </tr>\n",
       "    <tr>\n",
       "      <td>...</td>\n",
       "      <td>...</td>\n",
       "      <td>...</td>\n",
       "      <td>...</td>\n",
       "      <td>...</td>\n",
       "    </tr>\n",
       "    <tr>\n",
       "      <td>507</td>\n",
       "      <td>-0.239832</td>\n",
       "      <td>0.824588</td>\n",
       "      <td>1.586310</td>\n",
       "      <td>3.25383</td>\n",
       "    </tr>\n",
       "    <tr>\n",
       "      <td>508</td>\n",
       "      <td>-0.098431</td>\n",
       "      <td>0.697771</td>\n",
       "      <td>-1.143390</td>\n",
       "      <td>1.80390</td>\n",
       "    </tr>\n",
       "    <tr>\n",
       "      <td>509</td>\n",
       "      <td>0.885244</td>\n",
       "      <td>-0.089603</td>\n",
       "      <td>-1.737570</td>\n",
       "      <td>3.81084</td>\n",
       "    </tr>\n",
       "    <tr>\n",
       "      <td>510</td>\n",
       "      <td>1.559340</td>\n",
       "      <td>1.138160</td>\n",
       "      <td>-0.312792</td>\n",
       "      <td>3.82479</td>\n",
       "    </tr>\n",
       "    <tr>\n",
       "      <td>511</td>\n",
       "      <td>-0.489312</td>\n",
       "      <td>-2.488200</td>\n",
       "      <td>-2.228740</td>\n",
       "      <td>11.39790</td>\n",
       "    </tr>\n",
       "  </tbody>\n",
       "</table>\n",
       "<p>512 rows × 4 columns</p>\n",
       "</div>"
      ],
      "text/plain": [
       "           vx        vy        vz         v\n",
       "0   -3.628490 -1.735020 -2.404300  21.95690\n",
       "1   -2.488950 -3.029490 -2.378160  21.02840\n",
       "2   -2.957370 -3.465330 -2.128080  25.28330\n",
       "3   -1.348870 -3.854350 -2.068620  20.95470\n",
       "4   -4.396060 -3.002670 -0.241108  28.39950\n",
       "..        ...       ...       ...       ...\n",
       "507 -0.239832  0.824588  1.586310   3.25383\n",
       "508 -0.098431  0.697771 -1.143390   1.80390\n",
       "509  0.885244 -0.089603 -1.737570   3.81084\n",
       "510  1.559340  1.138160 -0.312792   3.82479\n",
       "511 -0.489312 -2.488200 -2.228740  11.39790\n",
       "\n",
       "[512 rows x 4 columns]"
      ]
     },
     "execution_count": 83,
     "metadata": {},
     "output_type": "execute_result"
    }
   ],
   "source": [
    "vel = pd.read_csv(\"velocity.csv\")\n",
    "vel"
   ]
  },
  {
   "cell_type": "code",
   "execution_count": 85,
   "metadata": {},
   "outputs": [
    {
     "data": {
      "text/plain": [
       "array([[<matplotlib.axes._subplots.AxesSubplot object at 0x7faa61d3b630>]],\n",
       "      dtype=object)"
      ]
     },
     "execution_count": 85,
     "metadata": {},
     "output_type": "execute_result"
    },
    {
     "data": {
      "image/png": "[encoded data removed]",
      "text/plain": [
       "<Figure size 432x288 with 1 Axes>"
      ]
     },
     "metadata": {
      "needs_background": "light"
     },
     "output_type": "display_data"
    },
    {
     "data": {
      "image/png": "[encoded data removed]",
      "text/plain": [
       "<Figure size 432x288 with 1 Axes>"
      ]
     },
     "metadata": {
      "needs_background": "light"
     },
     "output_type": "display_data"
    },
    {
     "data": {
      "image/png": "[encoded data removed]",
      "text/plain": [
       "<Figure size 432x288 with 1 Axes>"
      ]
     },
     "metadata": {
      "needs_background": "light"
     },
     "output_type": "display_data"
    },
    {
     "data": {
      "image/png": "[encoded data removed]",
      "text/plain": [
       "<Figure size 432x288 with 1 Axes>"
      ]
     },
     "metadata": {
      "needs_background": "light"
     },
     "output_type": "display_data"
    }
   ],
   "source": [
    "vel.hist(column='vx')\n",
    "vel.hist(column='vy')\n",
    "vel.hist(column='vz')\n",
    "vel.hist(column='v')"
   ]
  }
 ],
 "metadata": {
  "kernelspec": {
   "display_name": "Python 3",
   "language": "python",
   "name": "python3"
  },
  "language_info": {
   "codemirror_mode": {
    "name": "ipython",
    "version": 3
   },
   "file_extension": ".py",
   "mimetype": "text/x-python",
   "name": "python",
   "nbconvert_exporter": "python",
   "pygments_lexer": "ipython3",
   "version": "3.7.3"
  }
 },
 "nbformat": 4,
 "nbformat_minor": 2
}
