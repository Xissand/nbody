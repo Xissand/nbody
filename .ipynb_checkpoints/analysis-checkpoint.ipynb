{
 "cells": [
  {
   "cell_type": "code",
   "execution_count": 2,
   "metadata": {},
   "outputs": [],
   "source": [
    "import numpy as np\n",
    "import pandas as pd\n",
    "import matplotlib.pyplot as plt\n",
    "%matplotlib inline"
   ]
  },
  {
   "cell_type": "code",
   "execution_count": 3,
   "metadata": {},
   "outputs": [
    {
     "data": {
      "text/html": [
       "<div>\n",
       "<style scoped>\n",
       "    .dataframe tbody tr th:only-of-type {\n",
       "        vertical-align: middle;\n",
       "    }\n",
       "\n",
       "    .dataframe tbody tr th {\n",
       "        vertical-align: top;\n",
       "    }\n",
       "\n",
       "    .dataframe thead th {\n",
       "        text-align: right;\n",
       "    }\n",
       "</style>\n",
       "<table border=\"1\" class=\"dataframe\">\n",
       "  <thead>\n",
       "    <tr style=\"text-align: right;\">\n",
       "      <th></th>\n",
       "      <th>Particles</th>\n",
       "      <th>Step</th>\n",
       "      <th>Potential</th>\n",
       "      <th>Kitetic</th>\n",
       "      <th>Total</th>\n",
       "    </tr>\n",
       "  </thead>\n",
       "  <tbody>\n",
       "    <tr>\n",
       "      <td>0</td>\n",
       "      <td>512</td>\n",
       "      <td>0</td>\n",
       "      <td>0.00000</td>\n",
       "      <td>0.000</td>\n",
       "      <td>0.00</td>\n",
       "    </tr>\n",
       "    <tr>\n",
       "      <td>1</td>\n",
       "      <td>512</td>\n",
       "      <td>4</td>\n",
       "      <td>2904.86000</td>\n",
       "      <td>136.847</td>\n",
       "      <td>3041.71</td>\n",
       "    </tr>\n",
       "    <tr>\n",
       "      <td>2</td>\n",
       "      <td>512</td>\n",
       "      <td>9</td>\n",
       "      <td>2574.65000</td>\n",
       "      <td>458.137</td>\n",
       "      <td>3032.79</td>\n",
       "    </tr>\n",
       "    <tr>\n",
       "      <td>3</td>\n",
       "      <td>512</td>\n",
       "      <td>14</td>\n",
       "      <td>2199.01000</td>\n",
       "      <td>821.390</td>\n",
       "      <td>3020.40</td>\n",
       "    </tr>\n",
       "    <tr>\n",
       "      <td>4</td>\n",
       "      <td>512</td>\n",
       "      <td>19</td>\n",
       "      <td>1861.27000</td>\n",
       "      <td>1147.610</td>\n",
       "      <td>3008.88</td>\n",
       "    </tr>\n",
       "    <tr>\n",
       "      <td>...</td>\n",
       "      <td>...</td>\n",
       "      <td>...</td>\n",
       "      <td>...</td>\n",
       "      <td>...</td>\n",
       "      <td>...</td>\n",
       "    </tr>\n",
       "    <tr>\n",
       "      <td>1996</td>\n",
       "      <td>512</td>\n",
       "      <td>9979</td>\n",
       "      <td>3.52230</td>\n",
       "      <td>2967.770</td>\n",
       "      <td>2971.29</td>\n",
       "    </tr>\n",
       "    <tr>\n",
       "      <td>1997</td>\n",
       "      <td>512</td>\n",
       "      <td>9984</td>\n",
       "      <td>3.52058</td>\n",
       "      <td>2967.770</td>\n",
       "      <td>2971.29</td>\n",
       "    </tr>\n",
       "    <tr>\n",
       "      <td>1998</td>\n",
       "      <td>512</td>\n",
       "      <td>9989</td>\n",
       "      <td>3.51871</td>\n",
       "      <td>2967.770</td>\n",
       "      <td>2971.29</td>\n",
       "    </tr>\n",
       "    <tr>\n",
       "      <td>1999</td>\n",
       "      <td>512</td>\n",
       "      <td>9994</td>\n",
       "      <td>3.51704</td>\n",
       "      <td>2967.770</td>\n",
       "      <td>2971.29</td>\n",
       "    </tr>\n",
       "    <tr>\n",
       "      <td>2000</td>\n",
       "      <td>512</td>\n",
       "      <td>9999</td>\n",
       "      <td>3.51521</td>\n",
       "      <td>2967.770</td>\n",
       "      <td>2971.29</td>\n",
       "    </tr>\n",
       "  </tbody>\n",
       "</table>\n",
       "<p>2001 rows × 5 columns</p>\n",
       "</div>"
      ],
      "text/plain": [
       "      Particles  Step   Potential   Kitetic    Total\n",
       "0           512     0     0.00000     0.000     0.00\n",
       "1           512     4  2904.86000   136.847  3041.71\n",
       "2           512     9  2574.65000   458.137  3032.79\n",
       "3           512    14  2199.01000   821.390  3020.40\n",
       "4           512    19  1861.27000  1147.610  3008.88\n",
       "...         ...   ...         ...       ...      ...\n",
       "1996        512  9979     3.52230  2967.770  2971.29\n",
       "1997        512  9984     3.52058  2967.770  2971.29\n",
       "1998        512  9989     3.51871  2967.770  2971.29\n",
       "1999        512  9994     3.51704  2967.770  2971.29\n",
       "2000        512  9999     3.51521  2967.770  2971.29\n",
       "\n",
       "[2001 rows x 5 columns]"
      ]
     },
     "execution_count": 3,
     "metadata": {},
     "output_type": "execute_result"
    }
   ],
   "source": [
    "data = pd.read_csv(\"diag.csv\")\n",
    "data"
   ]
  },
  {
   "cell_type": "code",
   "execution_count": 4,
   "metadata": {},
   "outputs": [
    {
     "data": {
      "text/plain": [
       "<matplotlib.axes._subplots.AxesSubplot at 0x7f347b808978>"
      ]
     },
     "execution_count": 4,
     "metadata": {},
     "output_type": "execute_result"
    },
    {
     "data": {
      "image/png": "[encoded data removed]",
      "text/plain": [
       "<Figure size 432x288 with 1 Axes>"
      ]
     },
     "metadata": {
      "needs_background": "light"
     },
     "output_type": "display_data"
    }
   ],
   "source": [
    "ax = data.plot(x='Step', y='Kitetic')\n",
    "data.plot(x='Step', y='Potential', ax=ax)\n",
    "data.plot(x='Step', y='Total',ax=ax)"
   ]
  },
  {
   "cell_type": "code",
   "execution_count": null,
   "metadata": {},
   "outputs": [],
   "source": []
  }
 ],
 "metadata": {
  "kernelspec": {
   "display_name": "Python 3",
   "language": "python",
   "name": "python3"
  },
  "language_info": {
   "codemirror_mode": {
    "name": "ipython",
    "version": 3
   },
   "file_extension": ".py",
   "mimetype": "text/x-python",
   "name": "python",
   "nbconvert_exporter": "python",
   "pygments_lexer": "ipython3",
   "version": "3.7.3"
  }
 },
 "nbformat": 4,
 "nbformat_minor": 2
}
